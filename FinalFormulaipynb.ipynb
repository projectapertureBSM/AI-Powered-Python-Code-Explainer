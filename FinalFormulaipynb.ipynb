{
  "nbformat": 4,
  "nbformat_minor": 0,
  "metadata": {
    "colab": {
      "provenance": [],
      "authorship_tag": "ABX9TyNjFzZfHUiviogO62e3YVoz",
      "include_colab_link": true
    },
    "kernelspec": {
      "name": "python3",
      "display_name": "Python 3"
    },
    "language_info": {
      "name": "python"
    }
  },
  "cells": [
    {
      "cell_type": "markdown",
      "metadata": {
        "id": "view-in-github",
        "colab_type": "text"
      },
      "source": [
        "<a href=\"https://colab.research.google.com/github/projectapertureBSM/AI-Powered-Python-Code-Explainer/blob/main/FinalFormulaipynb.ipynb\" target=\"_parent\"><img src=\"https://colab.research.google.com/assets/colab-badge.svg\" alt=\"Open In Colab\"/></a>"
      ]
    },
    {
      "cell_type": "code",
      "execution_count": null,
      "metadata": {
        "colab": {
          "base_uri": "https://localhost:8080/"
        },
        "id": "s3iEG9sojpEm",
        "outputId": "188190c1-cb40-42c3-f634-ef5c1260a8b8"
      },
      "outputs": [
        {
          "output_type": "stream",
          "name": "stdout",
          "text": [
            "Enter particle mass in GeV: 20.22\n",
            "mass_GeV: 20.22\n",
            "h: 2.6292268871501676\n",
            "lifetime: -0.5617302928973962\n",
            "charge: -0.21684178247812017\n",
            "charge_full: -2.0921337038122987\n",
            "EM_force: -0.878808919639039\n",
            "Weak_force: -2.1789540270983254\n",
            "Strong_force: 0.1830065185599532\n",
            "spin: 0.15595996907985948\n",
            "helicity: -0.15595996907985948\n",
            "angular_momentum_vector: (np.float64(0.11125230436597812), np.float64(-0.10929975630645519), np.float64(-0.061591348194988634))\n",
            "helicity_eigenstate_plus: [-0.55003742+0.j          0.32981155-0.76725692j]\n",
            "helicity_eigenstate_minus: [-0.83514001+0.j         -0.2172195 +0.50532846j]\n"
          ]
        }
      ],
      "source": [
        "import numpy as np\n",
        "import cmath\n",
        "\n",
        "# Constants\n",
        "MH = 125.1  # Higgs boson mass in GeV\n",
        "lambda_const = 1  # Scaling constant\n",
        "tau0 = 1  # Arbitrary time scale for lifetime\n",
        "pythagorean_comma = 1.013643\n",
        "\n",
        "def compute_particle_properties(M):\n",
        "    h = np.log2(MH / M)  # Harmonic distance\n",
        "\n",
        "    PC = lambda_const * (1.013643 * np.floor(h / 12) - 1)  # Pythagorean Comma\n",
        "\n",
        "    angle = 2 * np.pi * h\n",
        "    sin2ph, cos2ph = np.sin(angle), np.cos(angle)\n",
        "    tan2ph = np.tan(angle) if np.cos(angle) != 0 else np.inf\n",
        "\n",
        "    # Lifetime\n",
        "    lifetime = tau0 / (sin2ph - tan2ph) if (sin2ph - tan2ph) != 0 else np.inf\n",
        "\n",
        "    # Charge\n",
        "    charge = (2/3) * cos2ph - (1/3) * sin2ph\n",
        "    charge_full = sin2ph - cos2ph - tan2ph + PC\n",
        "\n",
        "    # Forces\n",
        "    try:\n",
        "        EM_force = lambda_const * (sin2ph * cos2ph + 1 / sin2ph)\n",
        "    except ZeroDivisionError:\n",
        "        EM_force = np.inf\n",
        "    try:\n",
        "        Weak_force = lambda_const * (cos2ph * tan2ph + 1 / cos2ph)\n",
        "    except ZeroDivisionError:\n",
        "        Weak_force = np.inf\n",
        "    try:\n",
        "        Strong_force = lambda_const * (sin2ph * tan2ph + 1 / tan2ph)\n",
        "    except ZeroDivisionError:\n",
        "        Strong_force = np.inf\n",
        "\n",
        "    # Spin and Helicity\n",
        "    spin = 0.5 * (1 + cos2ph)\n",
        "    helicity = spin * np.sign(sin2ph)\n",
        "\n",
        "    # Angular Momentum Vector\n",
        "    Jx = spin * np.cos(2 * np.pi * h / 3)\n",
        "    Jy = spin * np.sin(2 * np.pi * h / 3)\n",
        "    Jz = spin * np.cos(np.pi * h)\n",
        "    J_vector = (Jx, Jy, Jz)\n",
        "\n",
        "    # Helicity Eigenstates\n",
        "    eiphi = cmath.exp(1j * np.pi * h)\n",
        "    cos_ph2 = np.cos(np.pi * h / 2)\n",
        "    sin_ph2 = np.sin(np.pi * h / 2)\n",
        "\n",
        "    ket_up = np.array([1, 0])\n",
        "    ket_down = np.array([0, 1])\n",
        "    ket_plus = cos_ph2 * ket_up + sin_ph2 * eiphi * ket_down\n",
        "    ket_minus = sin_ph2 * ket_up - cos_ph2 * eiphi * ket_down\n",
        "\n",
        "    return {\n",
        "        \"mass_GeV\": M,\n",
        "        \"h\": h,\n",
        "        \"lifetime\": lifetime,\n",
        "        \"charge\": charge,\n",
        "        \"charge_full\": charge_full,\n",
        "        \"EM_force\": EM_force,\n",
        "        \"Weak_force\": Weak_force,\n",
        "        \"Strong_force\": Strong_force,\n",
        "        \"spin\": spin,\n",
        "        \"helicity\": helicity,\n",
        "        \"angular_momentum_vector\": J_vector,\n",
        "        \"helicity_eigenstate_plus\": ket_plus,\n",
        "        \"helicity_eigenstate_minus\": ket_minus,\n",
        "    }\n",
        "\n",
        "# --- Input Section ---\n",
        "mass_input = float(input(\"Enter particle mass in GeV: \"))\n",
        "result = compute_particle_properties(mass_input)\n",
        "\n",
        "# --- Output Section ---\n",
        "for k, v in result.items():\n",
        "    print(f\"{k}: {v}\")"
      ]
    }
  ]
}